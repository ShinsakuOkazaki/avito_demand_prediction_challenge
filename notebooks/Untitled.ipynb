{
 "cells": [
  {
   "cell_type": "code",
   "execution_count": 1,
   "id": "cff693e9",
   "metadata": {},
   "outputs": [],
   "source": [
    "import numpy as np\n",
    "import pandas as pd\n",
    "import matplotlib.pyplot as plt\n",
    "import os\n",
    "from `O+import Image,  \n",
    "import seaborn as sns\n",
    "import warnings\n",
    "import gc\n",
    "warnings.filterwarnings('ignore')"
   ]
  },
  {
   "cell_type": "code",
   "execution_count": 2,
   "id": "5e2fdcf6",
   "metadata": {},
   "outputs": [],
   "source": [
    "data_dir = '/work/data/train_jpg/data/competition_files/train_jpg/'"
   ]
  },
  {
   "cell_type": "code",
   "execution_count": 3,
   "id": "f2bd6604",
   "metadata": {},
   "outputs": [],
   "source": [
    "files = os.listdir(data_dir)"
   ]
  },
  {
   "cell_type": "code",
   "execution_count": 4,
   "id": "ca3f9f49",
   "metadata": {},
   "outputs": [
    {
     "data": {
      "text/plain": [
       "['c4da20a2c9c25da54260d629b4edf0cd605f9b4db2fa453170d3330632e52ed5.jpg',\n",
       " 'd86e0b5a46b82674de0b0ea6ad59f124048536fcd41b1601fe82ee557ded8ea5.jpg',\n",
       " 'f108eb12d8b0b64eb759ff751f6a60b292b281151fc7ece0bb65d8008c94b5cc.jpg',\n",
       " '5fb1ce73408f396b32f1901f893335ef34803691b00db198588d3bf5faad49fa.jpg',\n",
       " 'bb0cfaf9a7540981977ce8876033e26133fa1a668f98f6730f9711c2b4b95f79.jpg',\n",
       " 'ed30de1144e5a73f1d69cfe5de426746cf927d20b185748db42707a67b018d7b.jpg',\n",
       " '247dd8db43432700a932663b081923c68df262eded16604d8919c381f033382d.jpg',\n",
       " 'd5435dd0b4dbf807adc814616358ce26354702c71e2f0e077de1dbdf18c86213.jpg',\n",
       " '6e890458e6550cfaad3e151c6818224ab8e3b888b1370c528221cbbf3f30215b.jpg',\n",
       " '50808cdbb2b4536b893e19b4b0c6e227ee06ff8d413c4411c967e3e8c7b52c41.jpg']"
      ]
     },
     "execution_count": 4,
     "metadata": {},
     "output_type": "execute_result"
    }
   ],
   "source": [
    "files[:10]"
   ]
  },
  {
   "cell_type": "code",
   "execution_count": null,
   "id": "a0d5f924",
   "metadata": {},
   "outputs": [],
   "source": []
  }
 ],
 "metadata": {
  "kernelspec": {
   "display_name": "Python 3",
   "language": "python",
   "name": "python3"
  },
  "language_info": {
   "codemirror_mode": {
    "name": "ipython",
    "version": 3
   },
   "file_extension": ".py",
   "mimetype": "text/x-python",
   "name": "python",
   "nbconvert_exporter": "python",
   "pygments_lexer": "ipython3",
   "version": "3.6.9"
  }
 },
 "nbformat": 4,
 "nbformat_minor": 5
}
